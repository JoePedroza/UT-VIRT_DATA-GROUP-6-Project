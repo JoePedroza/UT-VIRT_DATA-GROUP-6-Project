{
 "cells": [
  {
   "cell_type": "markdown",
   "metadata": {},
   "source": [
    "# Part 1: Data Preprocessing"
   ]
  },
  {
   "cell_type": "markdown",
   "metadata": {},
   "source": [
    "## Importing the libraries and the dataset\r\n"
   ]
  },
  {
   "cell_type": "code",
   "execution_count": 8,
   "metadata": {},
   "outputs": [],
   "source": [
    "import warnings\r\n",
    "warnings.filterwarnings('ignore')\r\n",
    "import numpy as np\r\n",
    "import pandas as pd\r\n",
    "from pathlib import Path\r\n",
    "from collections import Counter"
   ]
  },
  {
   "cell_type": "code",
   "execution_count": 4,
   "metadata": {},
   "outputs": [],
   "source": [
    "# Read the CSV and Perform Basic Data Cleaning\n",
    "columns = [\n",
    "    \"x_variable\", \"x_variable\", \"x_variable\", \"x_variable\",\n",
    "    \"x_variable\", \"x_variable\", \"x_variable\", \"y_variable\",\n",
    "]\n",
    "\n",
    "target = [\"y_variable\"]"
   ]
  },
  {
   "cell_type": "code",
   "execution_count": 12,
   "metadata": {},
   "outputs": [],
   "source": [
    "# Load the data\r\n",
    "# file_path = Path('database_file/covidmodeldata.csv')\r\n",
    "# df = pd.read_csv(file_path, skiprows=1)[:-2]\r\n",
    "# df = df.loc[:, columns].copy()\r\n",
    "\r\n",
    "dataset = pd.read_csv('.\\database_file\\covidmodeldata.csv')"
   ]
  },
  {
   "cell_type": "code",
   "execution_count": 17,
   "metadata": {},
   "outputs": [
    {
     "data": {
      "text/html": [
       "<div>\n",
       "<style scoped>\n",
       "    .dataframe tbody tr th:only-of-type {\n",
       "        vertical-align: middle;\n",
       "    }\n",
       "\n",
       "    .dataframe tbody tr th {\n",
       "        vertical-align: top;\n",
       "    }\n",
       "\n",
       "    .dataframe thead th {\n",
       "        text-align: right;\n",
       "    }\n",
       "</style>\n",
       "<table border=\"1\" class=\"dataframe\">\n",
       "  <thead>\n",
       "    <tr style=\"text-align: right;\">\n",
       "      <th></th>\n",
       "      <th>state</th>\n",
       "      <th>county</th>\n",
       "      <th>fipcode</th>\n",
       "      <th>population</th>\n",
       "      <th>PositivityRatio</th>\n",
       "      <th>Density</th>\n",
       "      <th>ActualCases</th>\n",
       "      <th>ActualDeaths</th>\n",
       "      <th>ActualHospitalBedCapacity</th>\n",
       "      <th>ActualHospitalBedCurrentUsageTotal</th>\n",
       "      <th>...</th>\n",
       "      <th>ActualVaccinesAdministered</th>\n",
       "      <th>CO_8hr</th>\n",
       "      <th>PB_3mo</th>\n",
       "      <th>NO2_AM</th>\n",
       "      <th>NO2_1hr</th>\n",
       "      <th>O3_8hr</th>\n",
       "      <th>PM10_24hr</th>\n",
       "      <th>PM25_Wtd_AM</th>\n",
       "      <th>PM25_24hr</th>\n",
       "      <th>SO2_1hr</th>\n",
       "    </tr>\n",
       "  </thead>\n",
       "  <tbody>\n",
       "    <tr>\n",
       "      <th>0</th>\n",
       "      <td>Texas</td>\n",
       "      <td>Atascosa County</td>\n",
       "      <td>48013</td>\n",
       "      <td>44911</td>\n",
       "      <td>0.0564</td>\n",
       "      <td>10.053872</td>\n",
       "      <td>5341</td>\n",
       "      <td>151</td>\n",
       "      <td>67.0</td>\n",
       "      <td>35.0</td>\n",
       "      <td>...</td>\n",
       "      <td>31683</td>\n",
       "      <td>NaN</td>\n",
       "      <td>NaN</td>\n",
       "      <td>NaN</td>\n",
       "      <td>NaN</td>\n",
       "      <td>NaN</td>\n",
       "      <td>NaN</td>\n",
       "      <td>NaN</td>\n",
       "      <td>NaN</td>\n",
       "      <td>NaN</td>\n",
       "    </tr>\n",
       "    <tr>\n",
       "      <th>1</th>\n",
       "      <td>Texas</td>\n",
       "      <td>Bell County</td>\n",
       "      <td>48027</td>\n",
       "      <td>310235</td>\n",
       "      <td>0.0127</td>\n",
       "      <td>1.102159</td>\n",
       "      <td>24857</td>\n",
       "      <td>439</td>\n",
       "      <td>1191.0</td>\n",
       "      <td>704.0</td>\n",
       "      <td>...</td>\n",
       "      <td>177022</td>\n",
       "      <td>NaN</td>\n",
       "      <td>NaN</td>\n",
       "      <td>3.0</td>\n",
       "      <td>23.0</td>\n",
       "      <td>0.064</td>\n",
       "      <td>NaN</td>\n",
       "      <td>7.8</td>\n",
       "      <td>21.0</td>\n",
       "      <td>NaN</td>\n",
       "    </tr>\n",
       "    <tr>\n",
       "      <th>2</th>\n",
       "      <td>Texas</td>\n",
       "      <td>Bexar County</td>\n",
       "      <td>48029</td>\n",
       "      <td>1714773</td>\n",
       "      <td>0.0179</td>\n",
       "      <td>12.613300</td>\n",
       "      <td>221026</td>\n",
       "      <td>3596</td>\n",
       "      <td>10395.0</td>\n",
       "      <td>3763.0</td>\n",
       "      <td>...</td>\n",
       "      <td>1662284</td>\n",
       "      <td>1.0</td>\n",
       "      <td>NaN</td>\n",
       "      <td>8.0</td>\n",
       "      <td>34.0</td>\n",
       "      <td>0.074</td>\n",
       "      <td>80.0</td>\n",
       "      <td>8.6</td>\n",
       "      <td>23.0</td>\n",
       "      <td>6.0</td>\n",
       "    </tr>\n",
       "    <tr>\n",
       "      <th>3</th>\n",
       "      <td>Texas</td>\n",
       "      <td>Bowie County</td>\n",
       "      <td>48037</td>\n",
       "      <td>92565</td>\n",
       "      <td>0.0432</td>\n",
       "      <td>3.860797</td>\n",
       "      <td>7125</td>\n",
       "      <td>223</td>\n",
       "      <td>883.0</td>\n",
       "      <td>338.0</td>\n",
       "      <td>...</td>\n",
       "      <td>40007</td>\n",
       "      <td>NaN</td>\n",
       "      <td>NaN</td>\n",
       "      <td>NaN</td>\n",
       "      <td>NaN</td>\n",
       "      <td>NaN</td>\n",
       "      <td>NaN</td>\n",
       "      <td>9.4</td>\n",
       "      <td>21.0</td>\n",
       "      <td>NaN</td>\n",
       "    </tr>\n",
       "    <tr>\n",
       "      <th>4</th>\n",
       "      <td>Texas</td>\n",
       "      <td>Brazoria County</td>\n",
       "      <td>48039</td>\n",
       "      <td>313166</td>\n",
       "      <td>0.0390</td>\n",
       "      <td>7.863052</td>\n",
       "      <td>38437</td>\n",
       "      <td>526</td>\n",
       "      <td>355.0</td>\n",
       "      <td>97.0</td>\n",
       "      <td>...</td>\n",
       "      <td>297783</td>\n",
       "      <td>NaN</td>\n",
       "      <td>NaN</td>\n",
       "      <td>5.0</td>\n",
       "      <td>35.0</td>\n",
       "      <td>0.070</td>\n",
       "      <td>NaN</td>\n",
       "      <td>NaN</td>\n",
       "      <td>NaN</td>\n",
       "      <td>NaN</td>\n",
       "    </tr>\n",
       "  </tbody>\n",
       "</table>\n",
       "<p>5 rows × 32 columns</p>\n",
       "</div>"
      ],
      "text/plain": [
       "   state           county  fipcode  population  PositivityRatio    Density  \\\n",
       "0  Texas  Atascosa County    48013       44911           0.0564  10.053872   \n",
       "1  Texas      Bell County    48027      310235           0.0127   1.102159   \n",
       "2  Texas     Bexar County    48029     1714773           0.0179  12.613300   \n",
       "3  Texas     Bowie County    48037       92565           0.0432   3.860797   \n",
       "4  Texas  Brazoria County    48039      313166           0.0390   7.863052   \n",
       "\n",
       "   ActualCases  ActualDeaths  ActualHospitalBedCapacity  \\\n",
       "0         5341           151                       67.0   \n",
       "1        24857           439                     1191.0   \n",
       "2       221026          3596                    10395.0   \n",
       "3         7125           223                      883.0   \n",
       "4        38437           526                      355.0   \n",
       "\n",
       "   ActualHospitalBedCurrentUsageTotal  ...  ActualVaccinesAdministered  \\\n",
       "0                                35.0  ...                       31683   \n",
       "1                               704.0  ...                      177022   \n",
       "2                              3763.0  ...                     1662284   \n",
       "3                               338.0  ...                       40007   \n",
       "4                                97.0  ...                      297783   \n",
       "\n",
       "   CO_8hr  PB_3mo  NO2_AM  NO2_1hr  O3_8hr  PM10_24hr  PM25_Wtd_AM  PM25_24hr  \\\n",
       "0     NaN     NaN     NaN      NaN     NaN        NaN          NaN        NaN   \n",
       "1     NaN     NaN     3.0     23.0   0.064        NaN          7.8       21.0   \n",
       "2     1.0     NaN     8.0     34.0   0.074       80.0          8.6       23.0   \n",
       "3     NaN     NaN     NaN      NaN     NaN        NaN          9.4       21.0   \n",
       "4     NaN     NaN     5.0     35.0   0.070        NaN          NaN        NaN   \n",
       "\n",
       "   SO2_1hr    \n",
       "0        NaN  \n",
       "1        NaN  \n",
       "2        6.0  \n",
       "3        NaN  \n",
       "4        NaN  \n",
       "\n",
       "[5 rows x 32 columns]"
      ]
     },
     "execution_count": 17,
     "metadata": {},
     "output_type": "execute_result"
    }
   ],
   "source": [
    "dataset.head()"
   ]
  },
  {
   "cell_type": "markdown",
   "metadata": {},
   "source": [
    "## Data exploration"
   ]
  },
  {
   "cell_type": "code",
   "execution_count": 18,
   "metadata": {},
   "outputs": [
    {
     "data": {
      "text/plain": [
       "(55, 32)"
      ]
     },
     "execution_count": 18,
     "metadata": {},
     "output_type": "execute_result"
    }
   ],
   "source": [
    "dataset.shape"
   ]
  },
  {
   "cell_type": "code",
   "execution_count": 19,
   "metadata": {},
   "outputs": [
    {
     "name": "stdout",
     "output_type": "stream",
     "text": [
      "<class 'pandas.core.frame.DataFrame'>\n",
      "RangeIndex: 55 entries, 0 to 54\n",
      "Data columns (total 32 columns):\n",
      " #   Column                              Non-Null Count  Dtype  \n",
      "---  ------                              --------------  -----  \n",
      " 0   state                               55 non-null     object \n",
      " 1   county                              55 non-null     object \n",
      " 2   fipcode                             55 non-null     int64  \n",
      " 3   population                          55 non-null     int64  \n",
      " 4   PositivityRatio                     52 non-null     float64\n",
      " 5   Density                             54 non-null     float64\n",
      " 6   ActualCases                         55 non-null     int64  \n",
      " 7   ActualDeaths                        55 non-null     int64  \n",
      " 8   ActualHospitalBedCapacity           51 non-null     float64\n",
      " 9   ActualHospitalBedCurrentUsageTotal  48 non-null     float64\n",
      " 10  ActualHospitalBedCurrentUsageCovid  55 non-null     int64  \n",
      " 11  ActualHospitalBedTypicalUsageRate   49 non-null     float64\n",
      " 12  ActualIcuBedsCapacity               51 non-null     float64\n",
      " 13  ActualIcuBedCurrentUsageTotal       45 non-null     float64\n",
      " 14  ActualIcuBedCurrentUsageCovid       55 non-null     int64  \n",
      " 15  ActualIcuBedTypicalUsageRate        43 non-null     float64\n",
      " 16  ActualNewCases                      55 non-null     int64  \n",
      " 17  ActualVaccinationInitiated          55 non-null     int64  \n",
      " 18  ActualVaccinationCompleted          55 non-null     int64  \n",
      " 19  VaccinationInitaitedRatio           55 non-null     float64\n",
      " 20  VaccinationCompletedRatio           55 non-null     float64\n",
      " 21  ActualNewDeaths                     55 non-null     int64  \n",
      " 22  ActualVaccinesAdministered          55 non-null     int64  \n",
      " 23  CO_8hr                              8 non-null      float64\n",
      " 24  PB_3mo                              3 non-null      float64\n",
      " 25  NO2_AM                              22 non-null     float64\n",
      " 26  NO2_1hr                             21 non-null     float64\n",
      " 27  O3_8hr                              35 non-null     float64\n",
      " 28  PM10_24hr                           9 non-null      float64\n",
      " 29  PM25_Wtd_AM                         24 non-null     float64\n",
      " 30  PM25_24hr                           24 non-null     float64\n",
      " 31  SO2_1hr                             17 non-null     float64\n",
      "dtypes: float64(19), int64(11), object(2)\n",
      "memory usage: 13.9+ KB\n"
     ]
    }
   ],
   "source": [
    "dataset.info()"
   ]
  },
  {
   "cell_type": "code",
   "execution_count": 20,
   "metadata": {},
   "outputs": [
    {
     "data": {
      "text/html": [
       "<div>\n",
       "<style scoped>\n",
       "    .dataframe tbody tr th:only-of-type {\n",
       "        vertical-align: middle;\n",
       "    }\n",
       "\n",
       "    .dataframe tbody tr th {\n",
       "        vertical-align: top;\n",
       "    }\n",
       "\n",
       "    .dataframe thead th {\n",
       "        text-align: right;\n",
       "    }\n",
       "</style>\n",
       "<table border=\"1\" class=\"dataframe\">\n",
       "  <thead>\n",
       "    <tr style=\"text-align: right;\">\n",
       "      <th></th>\n",
       "      <th>fipcode</th>\n",
       "      <th>population</th>\n",
       "      <th>PositivityRatio</th>\n",
       "      <th>Density</th>\n",
       "      <th>ActualCases</th>\n",
       "      <th>ActualDeaths</th>\n",
       "      <th>ActualHospitalBedCapacity</th>\n",
       "      <th>ActualHospitalBedCurrentUsageTotal</th>\n",
       "      <th>ActualHospitalBedCurrentUsageCovid</th>\n",
       "      <th>ActualHospitalBedTypicalUsageRate</th>\n",
       "      <th>...</th>\n",
       "      <th>ActualVaccinesAdministered</th>\n",
       "      <th>CO_8hr</th>\n",
       "      <th>PB_3mo</th>\n",
       "      <th>NO2_AM</th>\n",
       "      <th>NO2_1hr</th>\n",
       "      <th>O3_8hr</th>\n",
       "      <th>PM10_24hr</th>\n",
       "      <th>PM25_Wtd_AM</th>\n",
       "      <th>PM25_24hr</th>\n",
       "      <th>SO2_1hr</th>\n",
       "    </tr>\n",
       "  </thead>\n",
       "  <tbody>\n",
       "    <tr>\n",
       "      <th>count</th>\n",
       "      <td>55.000000</td>\n",
       "      <td>5.500000e+01</td>\n",
       "      <td>52.000000</td>\n",
       "      <td>54.000000</td>\n",
       "      <td>55.000000</td>\n",
       "      <td>55.000000</td>\n",
       "      <td>51.000000</td>\n",
       "      <td>48.000000</td>\n",
       "      <td>55.000000</td>\n",
       "      <td>49.000000</td>\n",
       "      <td>...</td>\n",
       "      <td>5.500000e+01</td>\n",
       "      <td>8.000000</td>\n",
       "      <td>3.000000</td>\n",
       "      <td>22.000000</td>\n",
       "      <td>21.000000</td>\n",
       "      <td>35.000000</td>\n",
       "      <td>9.000000</td>\n",
       "      <td>24.000000</td>\n",
       "      <td>24.000000</td>\n",
       "      <td>17.000000</td>\n",
       "    </tr>\n",
       "    <tr>\n",
       "      <th>mean</th>\n",
       "      <td>48247.872727</td>\n",
       "      <td>3.578091e+05</td>\n",
       "      <td>0.033760</td>\n",
       "      <td>7.573618</td>\n",
       "      <td>42335.672727</td>\n",
       "      <td>714.054545</td>\n",
       "      <td>1600.568627</td>\n",
       "      <td>774.125000</td>\n",
       "      <td>26.690909</td>\n",
       "      <td>0.534082</td>\n",
       "      <td>...</td>\n",
       "      <td>3.378879e+05</td>\n",
       "      <td>1.375000</td>\n",
       "      <td>0.020000</td>\n",
       "      <td>5.636364</td>\n",
       "      <td>30.333333</td>\n",
       "      <td>0.064829</td>\n",
       "      <td>85.444444</td>\n",
       "      <td>8.720833</td>\n",
       "      <td>24.083333</td>\n",
       "      <td>45.470588</td>\n",
       "    </tr>\n",
       "    <tr>\n",
       "      <th>std</th>\n",
       "      <td>139.367228</td>\n",
       "      <td>6.962173e+05</td>\n",
       "      <td>0.018977</td>\n",
       "      <td>12.066348</td>\n",
       "      <td>77159.152903</td>\n",
       "      <td>1237.408170</td>\n",
       "      <td>3203.904657</td>\n",
       "      <td>1620.445429</td>\n",
       "      <td>66.280792</td>\n",
       "      <td>0.172541</td>\n",
       "      <td>...</td>\n",
       "      <td>6.692798e+05</td>\n",
       "      <td>0.744024</td>\n",
       "      <td>0.017321</td>\n",
       "      <td>4.282250</td>\n",
       "      <td>12.842637</td>\n",
       "      <td>0.006501</td>\n",
       "      <td>10.236102</td>\n",
       "      <td>1.632277</td>\n",
       "      <td>5.555386</td>\n",
       "      <td>51.490433</td>\n",
       "    </tr>\n",
       "    <tr>\n",
       "      <th>min</th>\n",
       "      <td>48013.000000</td>\n",
       "      <td>2.342000e+03</td>\n",
       "      <td>0.003000</td>\n",
       "      <td>0.000000</td>\n",
       "      <td>193.000000</td>\n",
       "      <td>5.000000</td>\n",
       "      <td>4.000000</td>\n",
       "      <td>0.000000</td>\n",
       "      <td>0.000000</td>\n",
       "      <td>0.120000</td>\n",
       "      <td>...</td>\n",
       "      <td>1.927000e+03</td>\n",
       "      <td>0.000000</td>\n",
       "      <td>0.010000</td>\n",
       "      <td>2.000000</td>\n",
       "      <td>12.000000</td>\n",
       "      <td>0.053000</td>\n",
       "      <td>72.000000</td>\n",
       "      <td>5.400000</td>\n",
       "      <td>15.000000</td>\n",
       "      <td>3.000000</td>\n",
       "    </tr>\n",
       "    <tr>\n",
       "      <th>25%</th>\n",
       "      <td>48137.000000</td>\n",
       "      <td>4.391450e+04</td>\n",
       "      <td>0.018475</td>\n",
       "      <td>3.087389</td>\n",
       "      <td>4533.000000</td>\n",
       "      <td>104.500000</td>\n",
       "      <td>96.000000</td>\n",
       "      <td>32.500000</td>\n",
       "      <td>1.000000</td>\n",
       "      <td>0.430000</td>\n",
       "      <td>...</td>\n",
       "      <td>2.945150e+04</td>\n",
       "      <td>1.000000</td>\n",
       "      <td>0.010000</td>\n",
       "      <td>3.000000</td>\n",
       "      <td>23.000000</td>\n",
       "      <td>0.060500</td>\n",
       "      <td>80.000000</td>\n",
       "      <td>7.975000</td>\n",
       "      <td>21.000000</td>\n",
       "      <td>6.000000</td>\n",
       "    </tr>\n",
       "    <tr>\n",
       "      <th>50%</th>\n",
       "      <td>48245.000000</td>\n",
       "      <td>1.169270e+05</td>\n",
       "      <td>0.032700</td>\n",
       "      <td>4.238375</td>\n",
       "      <td>16030.000000</td>\n",
       "      <td>263.000000</td>\n",
       "      <td>379.000000</td>\n",
       "      <td>223.500000</td>\n",
       "      <td>5.000000</td>\n",
       "      <td>0.580000</td>\n",
       "      <td>...</td>\n",
       "      <td>8.403500e+04</td>\n",
       "      <td>1.500000</td>\n",
       "      <td>0.010000</td>\n",
       "      <td>3.500000</td>\n",
       "      <td>26.000000</td>\n",
       "      <td>0.064000</td>\n",
       "      <td>84.000000</td>\n",
       "      <td>8.400000</td>\n",
       "      <td>23.000000</td>\n",
       "      <td>14.000000</td>\n",
       "    </tr>\n",
       "    <tr>\n",
       "      <th>75%</th>\n",
       "      <td>48364.000000</td>\n",
       "      <td>3.007720e+05</td>\n",
       "      <td>0.043125</td>\n",
       "      <td>7.246561</td>\n",
       "      <td>40121.000000</td>\n",
       "      <td>562.000000</td>\n",
       "      <td>1505.000000</td>\n",
       "      <td>694.250000</td>\n",
       "      <td>25.000000</td>\n",
       "      <td>0.660000</td>\n",
       "      <td>...</td>\n",
       "      <td>2.864935e+05</td>\n",
       "      <td>2.000000</td>\n",
       "      <td>0.025000</td>\n",
       "      <td>7.250000</td>\n",
       "      <td>35.000000</td>\n",
       "      <td>0.069500</td>\n",
       "      <td>91.000000</td>\n",
       "      <td>9.575000</td>\n",
       "      <td>27.250000</td>\n",
       "      <td>84.000000</td>\n",
       "    </tr>\n",
       "    <tr>\n",
       "      <th>max</th>\n",
       "      <td>48493.000000</td>\n",
       "      <td>4.092459e+06</td>\n",
       "      <td>0.091400</td>\n",
       "      <td>68.676916</td>\n",
       "      <td>384272.000000</td>\n",
       "      <td>6511.000000</td>\n",
       "      <td>18060.000000</td>\n",
       "      <td>9358.000000</td>\n",
       "      <td>459.000000</td>\n",
       "      <td>0.800000</td>\n",
       "      <td>...</td>\n",
       "      <td>3.850802e+06</td>\n",
       "      <td>2.000000</td>\n",
       "      <td>0.040000</td>\n",
       "      <td>16.000000</td>\n",
       "      <td>59.000000</td>\n",
       "      <td>0.079000</td>\n",
       "      <td>101.000000</td>\n",
       "      <td>12.100000</td>\n",
       "      <td>36.000000</td>\n",
       "      <td>173.000000</td>\n",
       "    </tr>\n",
       "  </tbody>\n",
       "</table>\n",
       "<p>8 rows × 30 columns</p>\n",
       "</div>"
      ],
      "text/plain": [
       "            fipcode    population  PositivityRatio    Density    ActualCases  \\\n",
       "count     55.000000  5.500000e+01        52.000000  54.000000      55.000000   \n",
       "mean   48247.872727  3.578091e+05         0.033760   7.573618   42335.672727   \n",
       "std      139.367228  6.962173e+05         0.018977  12.066348   77159.152903   \n",
       "min    48013.000000  2.342000e+03         0.003000   0.000000     193.000000   \n",
       "25%    48137.000000  4.391450e+04         0.018475   3.087389    4533.000000   \n",
       "50%    48245.000000  1.169270e+05         0.032700   4.238375   16030.000000   \n",
       "75%    48364.000000  3.007720e+05         0.043125   7.246561   40121.000000   \n",
       "max    48493.000000  4.092459e+06         0.091400  68.676916  384272.000000   \n",
       "\n",
       "       ActualDeaths  ActualHospitalBedCapacity  \\\n",
       "count     55.000000                  51.000000   \n",
       "mean     714.054545                1600.568627   \n",
       "std     1237.408170                3203.904657   \n",
       "min        5.000000                   4.000000   \n",
       "25%      104.500000                  96.000000   \n",
       "50%      263.000000                 379.000000   \n",
       "75%      562.000000                1505.000000   \n",
       "max     6511.000000               18060.000000   \n",
       "\n",
       "       ActualHospitalBedCurrentUsageTotal  ActualHospitalBedCurrentUsageCovid  \\\n",
       "count                           48.000000                           55.000000   \n",
       "mean                           774.125000                           26.690909   \n",
       "std                           1620.445429                           66.280792   \n",
       "min                              0.000000                            0.000000   \n",
       "25%                             32.500000                            1.000000   \n",
       "50%                            223.500000                            5.000000   \n",
       "75%                            694.250000                           25.000000   \n",
       "max                           9358.000000                          459.000000   \n",
       "\n",
       "       ActualHospitalBedTypicalUsageRate  ...  ActualVaccinesAdministered  \\\n",
       "count                          49.000000  ...                5.500000e+01   \n",
       "mean                            0.534082  ...                3.378879e+05   \n",
       "std                             0.172541  ...                6.692798e+05   \n",
       "min                             0.120000  ...                1.927000e+03   \n",
       "25%                             0.430000  ...                2.945150e+04   \n",
       "50%                             0.580000  ...                8.403500e+04   \n",
       "75%                             0.660000  ...                2.864935e+05   \n",
       "max                             0.800000  ...                3.850802e+06   \n",
       "\n",
       "         CO_8hr    PB_3mo     NO2_AM    NO2_1hr     O3_8hr   PM10_24hr  \\\n",
       "count  8.000000  3.000000  22.000000  21.000000  35.000000    9.000000   \n",
       "mean   1.375000  0.020000   5.636364  30.333333   0.064829   85.444444   \n",
       "std    0.744024  0.017321   4.282250  12.842637   0.006501   10.236102   \n",
       "min    0.000000  0.010000   2.000000  12.000000   0.053000   72.000000   \n",
       "25%    1.000000  0.010000   3.000000  23.000000   0.060500   80.000000   \n",
       "50%    1.500000  0.010000   3.500000  26.000000   0.064000   84.000000   \n",
       "75%    2.000000  0.025000   7.250000  35.000000   0.069500   91.000000   \n",
       "max    2.000000  0.040000  16.000000  59.000000   0.079000  101.000000   \n",
       "\n",
       "       PM25_Wtd_AM  PM25_24hr   SO2_1hr    \n",
       "count    24.000000  24.000000   17.000000  \n",
       "mean      8.720833  24.083333   45.470588  \n",
       "std       1.632277   5.555386   51.490433  \n",
       "min       5.400000  15.000000    3.000000  \n",
       "25%       7.975000  21.000000    6.000000  \n",
       "50%       8.400000  23.000000   14.000000  \n",
       "75%       9.575000  27.250000   84.000000  \n",
       "max      12.100000  36.000000  173.000000  \n",
       "\n",
       "[8 rows x 30 columns]"
      ]
     },
     "execution_count": 20,
     "metadata": {},
     "output_type": "execute_result"
    }
   ],
   "source": [
    "# statistical summary\r\n",
    "dataset.describe()"
   ]
  },
  {
   "cell_type": "code",
   "execution_count": 21,
   "metadata": {},
   "outputs": [
    {
     "data": {
      "text/plain": [
       "Index(['state', 'county', 'fipcode', 'population', 'PositivityRatio',\n",
       "       'Density', 'ActualCases', 'ActualDeaths', 'ActualHospitalBedCapacity',\n",
       "       'ActualHospitalBedCurrentUsageTotal',\n",
       "       'ActualHospitalBedCurrentUsageCovid',\n",
       "       'ActualHospitalBedTypicalUsageRate', 'ActualIcuBedsCapacity',\n",
       "       'ActualIcuBedCurrentUsageTotal', 'ActualIcuBedCurrentUsageCovid',\n",
       "       'ActualIcuBedTypicalUsageRate', 'ActualNewCases',\n",
       "       'ActualVaccinationInitiated', 'ActualVaccinationCompleted',\n",
       "       'VaccinationInitaitedRatio', 'VaccinationCompletedRatio',\n",
       "       'ActualNewDeaths', 'ActualVaccinesAdministered', 'CO_8hr', 'PB_3mo',\n",
       "       'NO2_AM', 'NO2_1hr', 'O3_8hr', 'PM10_24hr', 'PM25_Wtd_AM', 'PM25_24hr',\n",
       "       'SO2_1hr  '],\n",
       "      dtype='object')"
      ]
     },
     "execution_count": 21,
     "metadata": {},
     "output_type": "execute_result"
    }
   ],
   "source": [
    "dataset.columns"
   ]
  },
  {
   "cell_type": "markdown",
   "metadata": {},
   "source": [
    "## Dealing with the missing values"
   ]
  },
  {
   "cell_type": "code",
   "execution_count": 23,
   "metadata": {},
   "outputs": [
    {
     "data": {
      "text/plain": [
       "True"
      ]
     },
     "execution_count": 23,
     "metadata": {},
     "output_type": "execute_result"
    }
   ],
   "source": [
    "dataset.isnull().values.any()"
   ]
  },
  {
   "cell_type": "code",
   "execution_count": 24,
   "metadata": {},
   "outputs": [
    {
     "data": {
      "text/plain": [
       "379"
      ]
     },
     "execution_count": 24,
     "metadata": {},
     "output_type": "execute_result"
    }
   ],
   "source": [
    "dataset.isnull().values.sum()"
   ]
  },
  {
   "cell_type": "code",
   "execution_count": 25,
   "metadata": {},
   "outputs": [
    {
     "data": {
      "text/plain": [
       "Index(['PositivityRatio', 'Density', 'ActualHospitalBedCapacity',\n",
       "       'ActualHospitalBedCurrentUsageTotal',\n",
       "       'ActualHospitalBedTypicalUsageRate', 'ActualIcuBedsCapacity',\n",
       "       'ActualIcuBedCurrentUsageTotal', 'ActualIcuBedTypicalUsageRate',\n",
       "       'CO_8hr', 'PB_3mo', 'NO2_AM', 'NO2_1hr', 'O3_8hr', 'PM10_24hr',\n",
       "       'PM25_Wtd_AM', 'PM25_24hr', 'SO2_1hr  '],\n",
       "      dtype='object')"
      ]
     },
     "execution_count": 25,
     "metadata": {},
     "output_type": "execute_result"
    }
   ],
   "source": [
    "dataset.columns[dataset.isnull().any()]"
   ]
  },
  {
   "cell_type": "code",
   "execution_count": 28,
   "metadata": {},
   "outputs": [
    {
     "data": {
      "text/plain": [
       "17"
      ]
     },
     "execution_count": 28,
     "metadata": {},
     "output_type": "execute_result"
    }
   ],
   "source": [
    "len(dataset.columns[dataset.isnull().any()])"
   ]
  },
  {
   "cell_type": "code",
   "execution_count": 34,
   "metadata": {},
   "outputs": [
    {
     "data": {
      "text/plain": [
       "PositivityRatio                       52\n",
       "Density                               54\n",
       "ActualHospitalBedCapacity             51\n",
       "ActualHospitalBedCurrentUsageTotal    48\n",
       "ActualHospitalBedTypicalUsageRate     49\n",
       "ActualHospitalBedTypicalUsageRate     49\n",
       "ActualIcuBedsCapacity                 51\n",
       "ActualIcuBedCurrentUsageTotal         45\n",
       "ActualIcuBedTypicalUsageRate          43\n",
       "CO_8hr                                 8\n",
       "PB_3mo                                 3\n",
       "NO2_AM                                22\n",
       "NO2_1hr                               21\n",
       "O3_8hr                                35\n",
       "PM10_24hr                              9\n",
       "PM25_Wtd_AM                           24\n",
       "PM25_24hr                             24\n",
       "dtype: int64"
      ]
     },
     "execution_count": 34,
     "metadata": {},
     "output_type": "execute_result"
    }
   ],
   "source": [
    "dataset[['PositivityRatio','Density','ActualHospitalBedCapacity','ActualHospitalBedCurrentUsageTotal','ActualHospitalBedTypicalUsageRate','ActualHospitalBedTypicalUsageRate', 'ActualIcuBedsCapacity',\r\n",
    "       'ActualIcuBedCurrentUsageTotal', 'ActualIcuBedTypicalUsageRate','CO_8hr', 'PB_3mo', 'NO2_AM', 'NO2_1hr', 'O3_8hr', 'PM10_24hr','PM25_Wtd_AM', 'PM25_24hr']].count()"
   ]
  },
  {
   "cell_type": "code",
   "execution_count": 35,
   "metadata": {},
   "outputs": [],
   "source": [
    "dataset = dataset.drop(columns=['PositivityRatio','Density','ActualHospitalBedCapacity','ActualHospitalBedCurrentUsageTotal','ActualHospitalBedTypicalUsageRate','ActualHospitalBedTypicalUsageRate', 'ActualIcuBedsCapacity',\r\n",
    "       'ActualIcuBedCurrentUsageTotal', 'ActualIcuBedTypicalUsageRate','CO_8hr', 'PB_3mo', 'NO2_AM', 'NO2_1hr', 'O3_8hr', 'PM10_24hr','PM25_Wtd_AM', 'PM25_24hr'])"
   ]
  },
  {
   "cell_type": "code",
   "execution_count": 36,
   "metadata": {},
   "outputs": [
    {
     "data": {
      "text/plain": [
       "(55, 16)"
      ]
     },
     "execution_count": 36,
     "metadata": {},
     "output_type": "execute_result"
    }
   ],
   "source": [
    "dataset.shape"
   ]
  },
  {
   "cell_type": "code",
   "execution_count": 37,
   "metadata": {},
   "outputs": [
    {
     "name": "stdout",
     "output_type": "stream",
     "text": [
      "<class 'pandas.core.frame.DataFrame'>\n",
      "RangeIndex: 55 entries, 0 to 54\n",
      "Data columns (total 16 columns):\n",
      " #   Column                              Non-Null Count  Dtype  \n",
      "---  ------                              --------------  -----  \n",
      " 0   state                               55 non-null     object \n",
      " 1   county                              55 non-null     object \n",
      " 2   fipcode                             55 non-null     int64  \n",
      " 3   population                          55 non-null     int64  \n",
      " 4   ActualCases                         55 non-null     int64  \n",
      " 5   ActualDeaths                        55 non-null     int64  \n",
      " 6   ActualHospitalBedCurrentUsageCovid  55 non-null     int64  \n",
      " 7   ActualIcuBedCurrentUsageCovid       55 non-null     int64  \n",
      " 8   ActualNewCases                      55 non-null     int64  \n",
      " 9   ActualVaccinationInitiated          55 non-null     int64  \n",
      " 10  ActualVaccinationCompleted          55 non-null     int64  \n",
      " 11  VaccinationInitaitedRatio           55 non-null     float64\n",
      " 12  VaccinationCompletedRatio           55 non-null     float64\n",
      " 13  ActualNewDeaths                     55 non-null     int64  \n",
      " 14  ActualVaccinesAdministered          55 non-null     int64  \n",
      " 15  SO2_1hr                             17 non-null     float64\n",
      "dtypes: float64(3), int64(11), object(2)\n",
      "memory usage: 7.0+ KB\n"
     ]
    }
   ],
   "source": [
    "dataset.info()"
   ]
  },
  {
   "cell_type": "code",
   "execution_count": 38,
   "metadata": {},
   "outputs": [
    {
     "data": {
      "text/plain": [
       "Index(['SO2_1hr  '], dtype='object')"
      ]
     },
     "execution_count": 38,
     "metadata": {},
     "output_type": "execute_result"
    }
   ],
   "source": [
    "dataset.columns[dataset.isnull().any()]"
   ]
  },
  {
   "cell_type": "code",
   "execution_count": 39,
   "metadata": {},
   "outputs": [
    {
     "data": {
      "text/plain": [
       "1"
      ]
     },
     "execution_count": 39,
     "metadata": {},
     "output_type": "execute_result"
    }
   ],
   "source": [
    "len(dataset.columns[dataset.isnull().any()])"
   ]
  },
  {
   "cell_type": "code",
   "execution_count": 40,
   "metadata": {},
   "outputs": [
    {
     "data": {
      "text/plain": [
       "17"
      ]
     },
     "execution_count": 40,
     "metadata": {},
     "output_type": "execute_result"
    }
   ],
   "source": [
    "dataset['SO2_1hr  '].count()"
   ]
  },
  {
   "cell_type": "code",
   "execution_count": 41,
   "metadata": {},
   "outputs": [],
   "source": [
    "dataset= dataset.drop(columns='SO2_1hr  ')"
   ]
  },
  {
   "cell_type": "code",
   "execution_count": 42,
   "metadata": {},
   "outputs": [
    {
     "data": {
      "text/plain": [
       "(55, 15)"
      ]
     },
     "execution_count": 42,
     "metadata": {},
     "output_type": "execute_result"
    }
   ],
   "source": [
    "dataset.shape"
   ]
  },
  {
   "cell_type": "code",
   "execution_count": 43,
   "metadata": {},
   "outputs": [
    {
     "name": "stdout",
     "output_type": "stream",
     "text": [
      "<class 'pandas.core.frame.DataFrame'>\n",
      "RangeIndex: 55 entries, 0 to 54\n",
      "Data columns (total 15 columns):\n",
      " #   Column                              Non-Null Count  Dtype  \n",
      "---  ------                              --------------  -----  \n",
      " 0   state                               55 non-null     object \n",
      " 1   county                              55 non-null     object \n",
      " 2   fipcode                             55 non-null     int64  \n",
      " 3   population                          55 non-null     int64  \n",
      " 4   ActualCases                         55 non-null     int64  \n",
      " 5   ActualDeaths                        55 non-null     int64  \n",
      " 6   ActualHospitalBedCurrentUsageCovid  55 non-null     int64  \n",
      " 7   ActualIcuBedCurrentUsageCovid       55 non-null     int64  \n",
      " 8   ActualNewCases                      55 non-null     int64  \n",
      " 9   ActualVaccinationInitiated          55 non-null     int64  \n",
      " 10  ActualVaccinationCompleted          55 non-null     int64  \n",
      " 11  VaccinationInitaitedRatio           55 non-null     float64\n",
      " 12  VaccinationCompletedRatio           55 non-null     float64\n",
      " 13  ActualNewDeaths                     55 non-null     int64  \n",
      " 14  ActualVaccinesAdministered          55 non-null     int64  \n",
      "dtypes: float64(2), int64(11), object(2)\n",
      "memory usage: 6.6+ KB\n"
     ]
    }
   ],
   "source": [
    "dataset.info()"
   ]
  },
  {
   "cell_type": "code",
   "execution_count": 44,
   "metadata": {},
   "outputs": [
    {
     "data": {
      "text/plain": [
       "False"
      ]
     },
     "execution_count": 44,
     "metadata": {},
     "output_type": "execute_result"
    }
   ],
   "source": [
    "dataset.isnull().values.any()"
   ]
  },
  {
   "cell_type": "markdown",
   "metadata": {},
   "source": [
    "## Dealing with categorical data"
   ]
  },
  {
   "cell_type": "code",
   "execution_count": 45,
   "metadata": {},
   "outputs": [
    {
     "data": {
      "text/plain": [
       "Index(['state', 'county'], dtype='object')"
      ]
     },
     "execution_count": 45,
     "metadata": {},
     "output_type": "execute_result"
    }
   ],
   "source": [
    "dataset.select_dtypes(include='object').columns"
   ]
  },
  {
   "cell_type": "code",
   "execution_count": 49,
   "metadata": {},
   "outputs": [
    {
     "data": {
      "text/html": [
       "<div>\n",
       "<style scoped>\n",
       "    .dataframe tbody tr th:only-of-type {\n",
       "        vertical-align: middle;\n",
       "    }\n",
       "\n",
       "    .dataframe tbody tr th {\n",
       "        vertical-align: top;\n",
       "    }\n",
       "\n",
       "    .dataframe thead th {\n",
       "        text-align: right;\n",
       "    }\n",
       "</style>\n",
       "<table border=\"1\" class=\"dataframe\">\n",
       "  <thead>\n",
       "    <tr style=\"text-align: right;\">\n",
       "      <th></th>\n",
       "      <th>state</th>\n",
       "      <th>county</th>\n",
       "      <th>fipcode</th>\n",
       "      <th>population</th>\n",
       "      <th>ActualCases</th>\n",
       "      <th>ActualDeaths</th>\n",
       "      <th>ActualHospitalBedCurrentUsageCovid</th>\n",
       "      <th>ActualIcuBedCurrentUsageCovid</th>\n",
       "      <th>ActualNewCases</th>\n",
       "      <th>ActualVaccinationInitiated</th>\n",
       "      <th>ActualVaccinationCompleted</th>\n",
       "      <th>VaccinationInitaitedRatio</th>\n",
       "      <th>VaccinationCompletedRatio</th>\n",
       "      <th>ActualNewDeaths</th>\n",
       "      <th>ActualVaccinesAdministered</th>\n",
       "    </tr>\n",
       "  </thead>\n",
       "  <tbody>\n",
       "    <tr>\n",
       "      <th>0</th>\n",
       "      <td>Texas</td>\n",
       "      <td>Atascosa County</td>\n",
       "      <td>48013</td>\n",
       "      <td>44911</td>\n",
       "      <td>5341</td>\n",
       "      <td>151</td>\n",
       "      <td>1</td>\n",
       "      <td>0</td>\n",
       "      <td>3</td>\n",
       "      <td>18104</td>\n",
       "      <td>14846</td>\n",
       "      <td>0.353919</td>\n",
       "      <td>0.290227</td>\n",
       "      <td>0</td>\n",
       "      <td>31683</td>\n",
       "    </tr>\n",
       "    <tr>\n",
       "      <th>1</th>\n",
       "      <td>Texas</td>\n",
       "      <td>Bell County</td>\n",
       "      <td>48027</td>\n",
       "      <td>310235</td>\n",
       "      <td>24857</td>\n",
       "      <td>439</td>\n",
       "      <td>18</td>\n",
       "      <td>5</td>\n",
       "      <td>14</td>\n",
       "      <td>102583</td>\n",
       "      <td>82358</td>\n",
       "      <td>0.282657</td>\n",
       "      <td>0.226929</td>\n",
       "      <td>1</td>\n",
       "      <td>177022</td>\n",
       "    </tr>\n",
       "    <tr>\n",
       "      <th>2</th>\n",
       "      <td>Texas</td>\n",
       "      <td>Bexar County</td>\n",
       "      <td>48029</td>\n",
       "      <td>1714773</td>\n",
       "      <td>221026</td>\n",
       "      <td>3596</td>\n",
       "      <td>130</td>\n",
       "      <td>55</td>\n",
       "      <td>482</td>\n",
       "      <td>942718</td>\n",
       "      <td>770951</td>\n",
       "      <td>0.470523</td>\n",
       "      <td>0.384792</td>\n",
       "      <td>3</td>\n",
       "      <td>1662284</td>\n",
       "    </tr>\n",
       "    <tr>\n",
       "      <th>3</th>\n",
       "      <td>Texas</td>\n",
       "      <td>Bowie County</td>\n",
       "      <td>48037</td>\n",
       "      <td>92565</td>\n",
       "      <td>7125</td>\n",
       "      <td>223</td>\n",
       "      <td>14</td>\n",
       "      <td>6</td>\n",
       "      <td>9</td>\n",
       "      <td>23371</td>\n",
       "      <td>19346</td>\n",
       "      <td>0.250641</td>\n",
       "      <td>0.207475</td>\n",
       "      <td>1</td>\n",
       "      <td>40007</td>\n",
       "    </tr>\n",
       "    <tr>\n",
       "      <th>4</th>\n",
       "      <td>Texas</td>\n",
       "      <td>Brazoria County</td>\n",
       "      <td>48039</td>\n",
       "      <td>313166</td>\n",
       "      <td>38437</td>\n",
       "      <td>526</td>\n",
       "      <td>5</td>\n",
       "      <td>4</td>\n",
       "      <td>22</td>\n",
       "      <td>166793</td>\n",
       "      <td>143160</td>\n",
       "      <td>0.445656</td>\n",
       "      <td>0.382511</td>\n",
       "      <td>0</td>\n",
       "      <td>297783</td>\n",
       "    </tr>\n",
       "  </tbody>\n",
       "</table>\n",
       "</div>"
      ],
      "text/plain": [
       "   state           county  fipcode  population  ActualCases  ActualDeaths  \\\n",
       "0  Texas  Atascosa County    48013       44911         5341           151   \n",
       "1  Texas      Bell County    48027      310235        24857           439   \n",
       "2  Texas     Bexar County    48029     1714773       221026          3596   \n",
       "3  Texas     Bowie County    48037       92565         7125           223   \n",
       "4  Texas  Brazoria County    48039      313166        38437           526   \n",
       "\n",
       "   ActualHospitalBedCurrentUsageCovid  ActualIcuBedCurrentUsageCovid  \\\n",
       "0                                   1                              0   \n",
       "1                                  18                              5   \n",
       "2                                 130                             55   \n",
       "3                                  14                              6   \n",
       "4                                   5                              4   \n",
       "\n",
       "   ActualNewCases  ActualVaccinationInitiated  ActualVaccinationCompleted  \\\n",
       "0               3                       18104                       14846   \n",
       "1              14                      102583                       82358   \n",
       "2             482                      942718                      770951   \n",
       "3               9                       23371                       19346   \n",
       "4              22                      166793                      143160   \n",
       "\n",
       "   VaccinationInitaitedRatio  VaccinationCompletedRatio  ActualNewDeaths  \\\n",
       "0                   0.353919                   0.290227                0   \n",
       "1                   0.282657                   0.226929                1   \n",
       "2                   0.470523                   0.384792                3   \n",
       "3                   0.250641                   0.207475                1   \n",
       "4                   0.445656                   0.382511                0   \n",
       "\n",
       "   ActualVaccinesAdministered  \n",
       "0                       31683  \n",
       "1                      177022  \n",
       "2                     1662284  \n",
       "3                       40007  \n",
       "4                      297783  "
      ]
     },
     "execution_count": 49,
     "metadata": {},
     "output_type": "execute_result"
    }
   ],
   "source": [
    "dataset.head()"
   ]
  },
  {
   "cell_type": "code",
   "execution_count": null,
   "metadata": {},
   "outputs": [],
   "source": [
    "# Convert the target column values to low_risk and high_risk based on their values\n",
    "x = {'x_variable': 'low_risk'}   \n",
    "df = df.replace(x)\n",
    "\n",
    "x = dict.fromkeys(['y_variable', 'y_variable', 'y_variable', 'y_variable'], 'high_risk')    \n",
    "df = df.replace(x)\n",
    "\n",
    "df.reset_index(inplace=True, drop=True)\n",
    "\n",
    "df.head()"
   ]
  },
  {
   "cell_type": "code",
   "execution_count": null,
   "metadata": {},
   "outputs": [],
   "source": [
    "# Split the Data into Training and Testing\n",
    "\n",
    "# Create our features\n",
    "X = pd.get_dummies(df, columns=['x variable', 'x_variable', 'x_variable', 'x_variable', \n",
    "                'x_variable', 'x_variable', 'x_variable', 'x_variable', \n",
    "                'x_variable']).drop('y_variable', axis=1)\n",
    "\n",
    "# Create our target\n",
    "y = df['y_variable']\n",
    "X.head()"
   ]
  },
  {
   "cell_type": "code",
   "execution_count": null,
   "metadata": {},
   "outputs": [],
   "source": [
    "# Show dataframe\n",
    "X.describe()"
   ]
  },
  {
   "cell_type": "code",
   "execution_count": null,
   "metadata": {},
   "outputs": [],
   "source": [
    "# Check the balance of our target values\n",
    "y.value_counts()"
   ]
  },
  {
   "cell_type": "code",
   "execution_count": null,
   "metadata": {},
   "outputs": [],
   "source": [
    "from sklearn.model_selection import train_test_split\n",
    "X_train, X_test, y_train, y_test = train_test_split(X, y, random_state=1, stratify=y)"
   ]
  },
  {
   "cell_type": "code",
   "execution_count": null,
   "metadata": {},
   "outputs": [],
   "source": [
    "# Naive Random Oversampling"
   ]
  },
  {
   "cell_type": "code",
   "execution_count": null,
   "metadata": {},
   "outputs": [],
   "source": [
    "# Resample the training data with the RandomOversampler\n",
    "from imblearn.over_sampling import RandomOverSampler\n",
    "ros = RandomOverSampler(random_state=1)\n",
    "X_resampled, y_resampled = ros.fit_resample(X_train, y_train)\n",
    "Counter(y_resampled)"
   ]
  },
  {
   "cell_type": "code",
   "execution_count": null,
   "metadata": {},
   "outputs": [],
   "source": [
    "# Train the Logistic Regression model using the resampled data\n",
    "from sklearn.linear_model import LogisticRegression\n",
    "logreg = LogisticRegression(solver='lbfgs', random_state=1)\n",
    "logreg.fit(X_resampled, y_resampled)"
   ]
  },
  {
   "cell_type": "code",
   "execution_count": null,
   "metadata": {},
   "outputs": [],
   "source": [
    "# Calculated the balanced accuracy score\n",
    "y_pred = logreg.predict(X_test)\n",
    "from sklearn.metrics import balanced_accuracy_score\n",
    "balanced_accuracy_score(y_test, y_pred)"
   ]
  },
  {
   "cell_type": "code",
   "execution_count": null,
   "metadata": {},
   "outputs": [],
   "source": [
    "# Display the confusion matrix\n",
    "from sklearn.metrics import confusion_matrix\n",
    "\n",
    "cm = confusion_matrix(y_test, y_pred)\n",
    "cm_df = pd.DataFrame(\n",
    "    cm, index=[\"Actual high_risk\", \"Actual low_risk\"], columns=[\"Predicted high_risk\", \"Predicted low_risk\"])\n",
    "cm_df"
   ]
  },
  {
   "cell_type": "code",
   "execution_count": null,
   "metadata": {},
   "outputs": [],
   "source": [
    "# Print the imbalanced classification report\n",
    "from imblearn.metrics import classification_report_imbalanced\n",
    "print(classification_report_imbalanced(y_test, y_pred))"
   ]
  },
  {
   "cell_type": "code",
   "execution_count": null,
   "metadata": {},
   "outputs": [],
   "source": [
    "# SMOTE Oversampling"
   ]
  },
  {
   "cell_type": "code",
   "execution_count": null,
   "metadata": {},
   "outputs": [],
   "source": [
    "# Resample the training data with SMOTE\n",
    "from imblearn.over_sampling import SMOTE\n",
    "smote = SMOTE(random_state=1)\n",
    "X_resampled, y_resampled = smote.fit_resample(X_train, y_train)\n",
    "Counter(y_resampled)"
   ]
  },
  {
   "cell_type": "code",
   "execution_count": null,
   "metadata": {},
   "outputs": [],
   "source": [
    "# Train the Logistic Regression model using the resampled data\n",
    "logreg.fit(X_resampled, y_resampled)"
   ]
  },
  {
   "cell_type": "code",
   "execution_count": null,
   "metadata": {},
   "outputs": [],
   "source": [
    "# Calculated the balanced accuracy score\n",
    "y_pred = logreg.predict(X_test)\n",
    "balanced_accuracy_score(y_test, y_pred)"
   ]
  },
  {
   "cell_type": "code",
   "execution_count": null,
   "metadata": {},
   "outputs": [],
   "source": [
    "# Display the confusion matrix\n",
    "cm = confusion_matrix(y_test, y_pred)\n",
    "cm_df = pd.DataFrame(\n",
    "    cm, index=[\"Actual high_risk\", \"Actual low_risk\"], columns=[\"Predicted high_risk\", \"Predicted low_risk\"])\n",
    "cm_df"
   ]
  },
  {
   "cell_type": "code",
   "execution_count": null,
   "metadata": {},
   "outputs": [],
   "source": [
    "# Print the imbalanced classification report\n",
    "print(classification_report_imbalanced(y_test, y_pred))"
   ]
  },
  {
   "cell_type": "code",
   "execution_count": null,
   "metadata": {},
   "outputs": [],
   "source": [
    "# Cluster Centroids Model"
   ]
  },
  {
   "cell_type": "code",
   "execution_count": null,
   "metadata": {},
   "outputs": [],
   "source": [
    "# Resample the data using the ClusterCentroids resampler\n",
    "# Warning: This is a large dataset, and this step may take some time to complete\n",
    "from imblearn.under_sampling import ClusterCentroids\n",
    "cc = ClusterCentroids(random_state=1)\n",
    "X_resampled, y_resampled = cc.fit_resample(X_train, y_train)\n",
    "Counter(y_resampled)"
   ]
  },
  {
   "cell_type": "code",
   "execution_count": null,
   "metadata": {},
   "outputs": [],
   "source": [
    "# Train the Logistic Regression model using the resampled data\n",
    "logreg.fit(X_resampled, y_resampled)"
   ]
  },
  {
   "cell_type": "code",
   "execution_count": null,
   "metadata": {},
   "outputs": [],
   "source": [
    "# Calculated the balanced accuracy score\n",
    "y_pred = logreg.predict(X_test)\n",
    "balanced_accuracy_score(y_test, y_pred)"
   ]
  },
  {
   "cell_type": "code",
   "execution_count": null,
   "metadata": {},
   "outputs": [],
   "source": [
    "# Display the confusion matrix\n",
    "cm = confusion_matrix(y_test, y_pred)\n",
    "cm_df = pd.DataFrame(\n",
    "    cm, index=[\"Actual high_risk\", \"Actual low_risk\"], columns=[\"Predicted high_risk\", \"Predicted low_risk\"])\n",
    "cm_df"
   ]
  },
  {
   "cell_type": "code",
   "execution_count": null,
   "metadata": {},
   "outputs": [],
   "source": [
    "# Print the imbalanced classification report\n",
    "print(classification_report_imbalanced(y_test, y_pred))"
   ]
  },
  {
   "cell_type": "code",
   "execution_count": null,
   "metadata": {},
   "outputs": [],
   "source": [
    "# SMOTEENN Model"
   ]
  },
  {
   "cell_type": "code",
   "execution_count": null,
   "metadata": {},
   "outputs": [],
   "source": [
    "# Resample the training data with SMOTEENN\n",
    "# Warning: This is a large dataset, and this step may take some time to complete\n",
    "from imblearn.combine import SMOTEENN\n",
    "smoteenn = SMOTEENN(random_state=1)\n",
    "X_resampled, y_resampled = smoteenn.fit_resample(X_train, y_train)\n",
    "Counter(y_resampled)"
   ]
  },
  {
   "cell_type": "code",
   "execution_count": null,
   "metadata": {},
   "outputs": [],
   "source": [
    "# Train the Logistic Regression model using the resampled data\n",
    "logreg.fit(X_resampled, y_resampled)"
   ]
  },
  {
   "cell_type": "code",
   "execution_count": null,
   "metadata": {},
   "outputs": [],
   "source": [
    "# Calculated the balanced accuracy score\n",
    "y_pred = logreg.predict(X_test)\n",
    "balanced_accuracy_score(y_test, y_pred)"
   ]
  },
  {
   "cell_type": "code",
   "execution_count": null,
   "metadata": {},
   "outputs": [],
   "source": [
    "# Display the confusion matrix\n",
    "cm = confusion_matrix(y_test, y_pred)\n",
    "cm_df = pd.DataFrame(\n",
    "    cm, index=[\"Actual high_risk\", \"Actual low_risk\"], columns=[\"Predicted high_risk\", \"Predicted low_risk\"])\n",
    "cm_df"
   ]
  },
  {
   "cell_type": "code",
   "execution_count": null,
   "metadata": {},
   "outputs": [],
   "source": [
    "# Print the imbalanced classification report\n",
    "print(classification_report_imbalanced(y_test, y_pred))"
   ]
  }
 ],
 "metadata": {
  "kernelspec": {
   "display_name": "mlenv",
   "language": "python",
   "name": "mlenv"
  },
  "language_info": {
   "codemirror_mode": {
    "name": "ipython",
    "version": 3
   },
   "file_extension": ".py",
   "mimetype": "text/x-python",
   "name": "python",
   "nbconvert_exporter": "python",
   "pygments_lexer": "ipython3",
   "version": "3.7.10"
  }
 },
 "nbformat": 4,
 "nbformat_minor": 5
}