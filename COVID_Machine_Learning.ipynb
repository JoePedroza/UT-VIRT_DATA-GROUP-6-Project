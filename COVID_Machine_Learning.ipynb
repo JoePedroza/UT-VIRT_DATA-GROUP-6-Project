{
 "cells": [
  {
   "cell_type": "code",
   "execution_count": 1,
   "id": "92a60945",
   "metadata": {},
   "outputs": [],
   "source": [
    "# Import Dependencies\n",
    "import warnings\n",
    "warnings.filterwarnings('ignore')\n",
    "import numpy as np\n",
    "import pandas as pd\n",
    "from pathlib import Path\n",
    "from collections import Counter\n",
    "import matplotlib.pyplot as plt\n",
    "from sklearn.linear_model import LinearRegression\n",
    "import sklearn.preprocessing as preprocessing"
   ]
  },
  {
   "cell_type": "code",
   "execution_count": 2,
   "id": "f5e71ad9",
   "metadata": {},
   "outputs": [],
   "source": [
    "# Load the data\n",
    "file_path = Path('database_file/covidmodeldata.csv')\n",
    "df = pd.read_csv(file_path)\n",
    "covid_df = df.replace(np.nan,0)\n"
   ]
  },
  {
   "cell_type": "code",
   "execution_count": 19,
   "metadata": {},
   "outputs": [],
   "source": [
    "#plt.scatter(covid_df.county, df.ActualDeaths)\n",
    "#plt.xlabel('County')\n",
    "#plt.ylabel('Deaths')\n",
    "#plt.xticks(rotation = 45)\n",
    "#plt.show()"
   ]
  },
  {
   "cell_type": "code",
   "execution_count": null,
   "metadata": {},
   "outputs": [],
   "source": []
  },
  {
   "cell_type": "code",
   "execution_count": 20,
   "metadata": {},
   "outputs": [
    {
     "output_type": "stream",
     "name": "stdout",
     "text": [
      "0       12\n1       23\n2       35\n3       92\n4       60\n5      307\n6      173\n7       23\n8        9\n9        3\n10      82\n11       6\n12      27\n13      12\n14      29\n15       8\n16       4\n17     126\n18       3\n19    2258\n20     145\n21      15\n22       4\n23      64\n24      63\n25      63\n26       4\n27       6\n28    1777\n29      75\nName: 9, dtype: int64\n"
     ]
    }
   ],
   "source": [
    "#y = df[\"ActualHospitalBedCurrentUsageTotal\"]\n",
    "y = covid_df['9']\n",
    "print (y)\n"
   ]
  },
  {
   "cell_type": "code",
   "execution_count": 13,
   "metadata": {},
   "outputs": [
    {
     "output_type": "stream",
     "name": "stdout",
     "text": [
      "        4     5      6     7     8  10    11   12   13  14  ...  22  23    24  \\\n0   0.107   3.9   3204    44    67   0  0.49    0    0   0  ...   0   1  0.00   \n1   0.016   1.0   3984    96    42   0  0.60    0    0   0  ...   0   0  0.00   \n2   0.025   2.2  17415   185   123   0  0.32    8    6   1  ...   0   0  0.00   \n3   0.096  12.2   6228   126   212   2  0.40   13    6   1  ...   0   0  0.00   \n4   0.039   4.1   5667    79   150   0  0.48   14   12   0  ...   0   0  0.00   \n5   0.010   1.4  31313   437   802   4  0.63   36   29   2  ...   0   0  0.00   \n6   0.036  10.2  14103   198   550   5  0.50   20   17   1  ...   0   0  0.00   \n7   0.098   4.6   7047   165    95   0  0.32    0    0   0  ...   0   0  0.00   \n8   0.015   0.5   4085   104    80   1  0.19    4    0   0  ...   0   0  0.00   \n9   0.100   0.0    553    14    18   0  0.24    0    0   0  ...   0   0  0.00   \n10  0.010   1.2   7820   139   436   0  0.36   16    6   0  ...   0   0  0.00   \n11  0.046   0.0   1380    37    25   0  0.18    0    0   0  ...   0   0  0.00   \n12  0.016   1.0   5345   128   189   1  0.34    6    4   1  ...   0   0  0.00   \n13  0.044   3.2   5646    67    43   1  0.39    4    0   0  ...   0   0  0.00   \n14  0.010   2.0   3263    72    50   0  0.43    0    0   0  ...   0   0  0.00   \n15  0.222  16.7   1516    22    25   0  0.35    0    0   0  ...   0   0  0.00   \n16  0.062   5.9   4276    73    48   1  0.13    0    0   0  ...   0   0  0.00   \n17  0.045   2.1   9381   177   429   7  0.50   67   45   1  ...   0   0  0.00   \n18  0.042  11.3   1159    20    25   0  0.20    0    0   0  ...   0   0  0.00   \n19  0.014   2.0  87633  1307  5005  49  0.68  329  244   4  ...   0   1  0.00   \n20  0.017   3.3   4794    79    40   2  0.36   28   16   0  ...   0   0  0.00   \n21  0.204  22.9   4022    70   144   2  0.16    5    2   1  ...   0   0  0.02   \n22  0.040   0.9   1794    52    14   1  0.45    0    0   0  ...   0   0  0.00   \n23  0.036   0.9   8717    76   216   0  0.23   14    7   1  ...   0   0  0.00   \n24  0.146   3.6   4668    78   164   1  0.37   14    7   1  ...   0   0  0.01   \n25  0.012   1.0   8405   131   130   1  0.63   24    9   0  ...   0   0  0.00   \n26  0.014   1.8   2885    78    32   1  0.18    0    0   0  ...   0   0  0.00   \n27  0.094   7.9   4177    56    41   1  0.15    0    0   0  ...   0   0  0.00   \n28  0.076   5.5  75784  1118  3645  49  0.69  273  241  20  ...   0   1  0.00   \n29  0.091   4.4   5266   118   140   3  0.46    8    6   0  ...   0   0  0.00   \n\n    25  26     27   28   29  30  31  \n0    0   0  0.053   77  0.0   0   2  \n1    0   0  0.000    0  0.0   0   0  \n2    0   0  0.062    0  0.0   0   0  \n3    0   0  0.067    0  0.0   0   0  \n4    0   0  0.000    0  0.0   0   0  \n5    0   0  0.063    0  9.9  25   0  \n6    0   0  0.064    0  7.4  19   0  \n7    0   0  0.062    0  0.0   0   0  \n8    0   0  0.000    0  0.0   0   0  \n9    0   0  0.061    0  7.3  17   0  \n10   0   0  0.000    0  0.0   0  32  \n11   0   0  0.067    0  0.0   0   0  \n12   0   0  0.056    0  9.4  21  23  \n13   0   0  0.000    0  0.0   0   0  \n14   0   0  0.000    0  0.0   0   0  \n15   0   0  0.000    0  0.0   0   0  \n16   0   0  0.054    0  0.0   0   0  \n17   0   0  0.000    0  0.0   0   0  \n18   0   0  0.000    0  0.0   0   0  \n19  11  39  0.069  120  9.9  22   2  \n20   0   0  0.062    0  0.0   0   0  \n21   0   0  0.046  107  0.0   0   0  \n22   0   0  0.000    0  0.0   0   0  \n23   0   0  0.000    0  0.0   0   0  \n24   0   0  0.057    0  8.2  22   0  \n25   0   0  0.000    0  0.0   0   0  \n26   0   0  0.000    0  0.0   0   0  \n27   5  26  0.053    0  7.2  20   0  \n28   6   0  0.061   96  8.9  20   7  \n29   0   0  0.062    0  0.0   0   0  \n\n[30 rows x 27 columns]\n"
     ]
    }
   ],
   "source": [
    "#X = df.drop(['state','county','fipcode','population','ActualHospitalBedCurrentUsageTotal'],axis=1)\n",
    "X = covid_df.drop([df.columns[0],df.columns[1],df.columns[2],df.columns[3],df.columns[9]],axis=1)\n",
    "print(X)"
   ]
  },
  {
   "cell_type": "code",
   "execution_count": 14,
   "metadata": {},
   "outputs": [],
   "source": [
    "#### min-max scaler\n",
    "minmax = preprocessing.MinMaxScaler()\n",
    "minmax.fit(X)\n",
    "X_minmax = minmax.transform(X)\n",
    "\n",
    "\n"
   ]
  },
  {
   "cell_type": "code",
   "execution_count": 15,
   "id": "85954072",
   "metadata": {},
   "outputs": [
    {
     "output_type": "execute_result",
     "data": {
      "text/plain": [
       "(22, 27)"
      ]
     },
     "metadata": {},
     "execution_count": 15
    }
   ],
   "source": [
    "from sklearn.model_selection import train_test_split\n",
    "X_train, X_test, y_train, y_test = train_test_split(X_minmax, y, random_state=1)\n",
    "X_train.shape"
   ]
  },
  {
   "cell_type": "code",
   "execution_count": 16,
   "metadata": {},
   "outputs": [],
   "source": [
    "from sklearn.svm import SVC\n",
    "model = SVC(kernel='linear')"
   ]
  },
  {
   "cell_type": "code",
   "execution_count": 17,
   "metadata": {},
   "outputs": [
    {
     "output_type": "execute_result",
     "data": {
      "text/plain": [
       "SVC(kernel='linear')"
      ]
     },
     "metadata": {},
     "execution_count": 17
    }
   ],
   "source": [
    "model.fit(X_train, y_train)"
   ]
  },
  {
   "cell_type": "code",
   "execution_count": 18,
   "metadata": {},
   "outputs": [
    {
     "output_type": "execute_result",
     "data": {
      "text/plain": [
       "   Prediction  Actual\n",
       "0          63     126\n",
       "1           3      15\n",
       "2           4      82\n",
       "3        1777    2258\n",
       "4           4      29"
      ],
      "text/html": "<div>\n<style scoped>\n    .dataframe tbody tr th:only-of-type {\n        vertical-align: middle;\n    }\n\n    .dataframe tbody tr th {\n        vertical-align: top;\n    }\n\n    .dataframe thead th {\n        text-align: right;\n    }\n</style>\n<table border=\"1\" class=\"dataframe\">\n  <thead>\n    <tr style=\"text-align: right;\">\n      <th></th>\n      <th>Prediction</th>\n      <th>Actual</th>\n    </tr>\n  </thead>\n  <tbody>\n    <tr>\n      <th>0</th>\n      <td>63</td>\n      <td>126</td>\n    </tr>\n    <tr>\n      <th>1</th>\n      <td>3</td>\n      <td>15</td>\n    </tr>\n    <tr>\n      <th>2</th>\n      <td>4</td>\n      <td>82</td>\n    </tr>\n    <tr>\n      <th>3</th>\n      <td>1777</td>\n      <td>2258</td>\n    </tr>\n    <tr>\n      <th>4</th>\n      <td>4</td>\n      <td>29</td>\n    </tr>\n  </tbody>\n</table>\n</div>"
     },
     "metadata": {},
     "execution_count": 18
    }
   ],
   "source": [
    "y_pred = model.predict(X_test)\n",
    "results = pd.DataFrame({\n",
    "   \"Prediction\": y_pred,\n",
    "   \"Actual\": y_test\n",
    "}).reset_index(drop=True)\n",
    "results.head()"
   ]
  },
  {
   "cell_type": "code",
   "execution_count": 129,
   "metadata": {},
   "outputs": [
    {
     "output_type": "execute_result",
     "data": {
      "text/plain": [
       "0.125"
      ]
     },
     "metadata": {},
     "execution_count": 129
    }
   ],
   "source": [
    "from sklearn.metrics import accuracy_score\n",
    "accuracy_score(y_test, y_pred)"
   ]
  },
  {
   "cell_type": "code",
   "execution_count": 130,
   "metadata": {},
   "outputs": [
    {
     "output_type": "stream",
     "name": "stdout",
     "text": [
      "              precision    recall  f1-score   support\n\n           0       0.17      1.00      0.29         1\n           2       0.00      0.00      0.00         1\n          13       0.00      0.00      0.00         1\n          17       0.00      0.00      0.00         1\n          40       0.00      0.00      0.00         0\n          56       0.00      0.00      0.00         1\n          79       0.00      0.00      0.00         1\n         117       0.00      0.00      0.00         1\n         118       0.00      0.00      0.00         0\n         435       0.00      0.00      0.00         1\n\n    accuracy                           0.12         8\n   macro avg       0.02      0.10      0.03         8\nweighted avg       0.02      0.12      0.04         8\n\n"
     ]
    }
   ],
   "source": [
    "from sklearn.metrics import confusion_matrix\n",
    "confusion_matrix(y_test, y_pred)\n",
    "\n",
    "from sklearn.metrics import classification_report\n",
    "print(classification_report(y_test, y_pred))"
   ]
  },
  {
   "cell_type": "code",
   "execution_count": null,
   "metadata": {},
   "outputs": [],
   "source": []
  },
  {
   "cell_type": "code",
   "execution_count": null,
   "metadata": {},
   "outputs": [],
   "source": []
  },
  {
   "cell_type": "code",
   "execution_count": null,
   "metadata": {},
   "outputs": [],
   "source": []
  },
  {
   "cell_type": "code",
   "execution_count": null,
   "metadata": {},
   "outputs": [],
   "source": []
  },
  {
   "cell_type": "code",
   "execution_count": null,
   "metadata": {},
   "outputs": [],
   "source": []
  },
  {
   "cell_type": "code",
   "execution_count": null,
   "metadata": {},
   "outputs": [],
   "source": []
  },
  {
   "cell_type": "code",
   "execution_count": null,
   "id": "90c83a45",
   "metadata": {},
   "outputs": [],
   "source": [
    "# Naive Random Oversampling"
   ]
  },
  {
   "cell_type": "code",
   "execution_count": null,
   "metadata": {},
   "outputs": [],
   "source": []
  },
  {
   "cell_type": "code",
   "execution_count": null,
   "id": "21ecbafc",
   "metadata": {},
   "outputs": [],
   "source": [
    "# Resample the training data with the RandomOversampler\n",
    "#from imblearn.over_sampling import RandomOverSampler\n",
    "#ros = RandomOverSampler(random_state=1)\n",
    "#X_resampled, y_resampled = ros.fit_resample(X_train, y_train)\n",
    "#Counter(y_resampled)"
   ]
  },
  {
   "cell_type": "code",
   "execution_count": null,
   "id": "b23440b9",
   "metadata": {},
   "outputs": [],
   "source": [
    "# Train the Logistic Regression model using the resampled data\n",
    "#from sklearn.linear_model import LogisticRegression\n",
    "#logreg = LogisticRegression(solver='lbfgs', random_state=1)\n",
    "#logreg.fit(X_resampled, y_resampled)"
   ]
  },
  {
   "cell_type": "code",
   "execution_count": null,
   "id": "3e7b3414",
   "metadata": {},
   "outputs": [],
   "source": [
    "# Calculated the balanced accuracy score\n",
    "#y_pred = logreg.predict(X_test)\n",
    "#from sklearn.metrics import balanced_accuracy_score\n",
    "#balanced_accuracy_score(y_test, y_pred)"
   ]
  },
  {
   "cell_type": "code",
   "execution_count": null,
   "id": "da0b13a1",
   "metadata": {},
   "outputs": [],
   "source": [
    "# Display the confusion matrix\n",
    "#from sklearn.metrics import confusion_matrix\n",
    "\n",
    "#cm = confusion_matrix(y_test, y_pred)\n",
    "##cm_df = pd.DataFrame(\n",
    "#   cm, index=[\"Actual high_risk\", \"Actual low_risk\"], columns=#[\"Predicted high_risk\", \"Predicted low_risk\"])\n",
    "#cm_df"
   ]
  },
  {
   "cell_type": "code",
   "execution_count": null,
   "id": "edabdbd4",
   "metadata": {},
   "outputs": [],
   "source": [
    "# Print the imbalanced classification report\n",
    "#from imblearn.metrics import classification_report_imbalanced\n",
    "#print(classification_report_imbalanced(y_test, y_pred))"
   ]
  },
  {
   "cell_type": "code",
   "execution_count": null,
   "id": "7e287528",
   "metadata": {},
   "outputs": [],
   "source": [
    "# SMOTE Oversampling"
   ]
  },
  {
   "cell_type": "code",
   "execution_count": null,
   "id": "f74680a6",
   "metadata": {},
   "outputs": [],
   "source": [
    "# Resample the training data with SMOTE\n",
    "#from imblearn.over_sampling import SMOTE\n",
    "#smote = SMOTE(random_state=1)\n",
    "#X_resampled, y_resampled = smote.fit_resample(X_train, y_train)\n",
    "#Counter(y_resampled)"
   ]
  },
  {
   "cell_type": "code",
   "execution_count": null,
   "id": "645873fb",
   "metadata": {},
   "outputs": [],
   "source": [
    "# Train the Logistic Regression model using the resampled data\n",
    "#logreg.fit(X_resampled, y_resampled)"
   ]
  },
  {
   "cell_type": "code",
   "execution_count": null,
   "id": "5fe9f24b",
   "metadata": {},
   "outputs": [],
   "source": [
    "# Calculated the balanced accuracy score\n",
    "#y_pred = logreg.predict(X_test)\n",
    "#balanced_accuracy_score(y_test, y_pred)"
   ]
  },
  {
   "cell_type": "code",
   "execution_count": null,
   "id": "a85d58a1",
   "metadata": {},
   "outputs": [],
   "source": [
    "# Display the confusion matrix\n",
    "#cm = confusion_matrix(y_test, y_pred)\n",
    "#cm_df = pd.DataFrame(\n",
    "#    cm, index=[\"Actual high_risk\", \"Actual low_risk\"], columns=[\"Predicted high_risk\", #\"Predicted low_risk\"])\n",
    "#cm_df"
   ]
  },
  {
   "cell_type": "code",
   "execution_count": null,
   "id": "5eb4936a",
   "metadata": {},
   "outputs": [],
   "source": [
    "# Print the imbalanced classification report\n",
    "#print(classification_report_imbalanced(y_test, y_pred))"
   ]
  },
  {
   "cell_type": "code",
   "execution_count": null,
   "id": "7a51d34f",
   "metadata": {},
   "outputs": [],
   "source": [
    "# Cluster Centroid Model"
   ]
  },
  {
   "cell_type": "code",
   "execution_count": null,
   "id": "d492a6df",
   "metadata": {},
   "outputs": [],
   "source": [
    "# Resample the data using the ClusterCentroids resampler\n",
    "# Warning: This is a large dataset, and this step may take some time to complete\n",
    "#from imblearn.under_sampling import ClusterCentroids\n",
    "#cc = ClusterCentroids(random_state=1)\n",
    "#X_resampled, y_resampled = cc.fit_resample(X_train, y_train)\n",
    "#Counter(y_resampled)"
   ]
  },
  {
   "cell_type": "code",
   "execution_count": null,
   "id": "bfb6d390",
   "metadata": {},
   "outputs": [],
   "source": [
    "# Train the Logistic Regression model using the resampled data\n",
    "#logreg.fit(X_resampled, y_resampled)"
   ]
  },
  {
   "cell_type": "code",
   "execution_count": null,
   "id": "a4d9cdfd",
   "metadata": {},
   "outputs": [],
   "source": [
    "# Calculated the balanced accuracy score\n",
    "#y_pred = logreg.predict(X_test)\n",
    "#balanced_accuracy_score(y_test, y_pred)"
   ]
  },
  {
   "cell_type": "code",
   "execution_count": null,
   "id": "25e2f00e",
   "metadata": {},
   "outputs": [],
   "source": [
    "# Display the confusion matrix\n",
    "#cm = confusion_matrix(y_test, y_pred)\n",
    "#cm_df = pd.DataFrame(\n",
    "#    cm, index=[\"Actual high_risk\", \"Actual low_risk\"], columns=[\"Predicted high_risk\", \"Predicted low_risk\"])\n",
    "#cm_df"
   ]
  },
  {
   "cell_type": "code",
   "execution_count": null,
   "id": "39a594c7",
   "metadata": {},
   "outputs": [],
   "source": [
    "# Print the imbalanced classification report\n",
    "#print(classification_report_imbalanced(y_test, y_pred))"
   ]
  },
  {
   "cell_type": "code",
   "execution_count": null,
   "id": "f4e868c1",
   "metadata": {},
   "outputs": [],
   "source": [
    "# SMOTEENN Model"
   ]
  },
  {
   "cell_type": "code",
   "execution_count": null,
   "id": "f8905c95",
   "metadata": {},
   "outputs": [],
   "source": [
    "# Resample the training data with SMOTEENN\n",
    "# Warning: This is a large dataset, and this step may take some time to complete\n",
    "#from imblearn.combine import SMOTEENN\n",
    "#smoteenn = SMOTEENN(random_state=1)\n",
    "#X_resampled, y_resampled = smoteenn.fit_resample(X_train, y_train)\n",
    "#Counter(y_resampled)"
   ]
  },
  {
   "cell_type": "code",
   "execution_count": null,
   "id": "9aa2c0d3",
   "metadata": {},
   "outputs": [],
   "source": [
    "# Train the Logistic Regression model using the resampled data\n",
    "#logreg.fit(X_resampled, y_resampled)"
   ]
  },
  {
   "cell_type": "code",
   "execution_count": null,
   "id": "41e3425f",
   "metadata": {},
   "outputs": [],
   "source": [
    "# Calculated the balanced accuracy score\n",
    "#y_pred = logreg.predict(X_test)\n",
    "#balanced_accuracy_score(y_test, y_pred)"
   ]
  },
  {
   "cell_type": "code",
   "execution_count": null,
   "id": "a5bc020b",
   "metadata": {},
   "outputs": [],
   "source": [
    "# Display the confusion matrix\n",
    "#cm = confusion_matrix(y_test, y_pred)\n",
    "#cm_df = pd.DataFrame(\n",
    "#    cm, index=[\"Actual high_risk\", \"Actual low_risk\"], columns=[\"Predicted high_risk\", #\"Predicted low_risk\"])\n",
    "#cm_df"
   ]
  },
  {
   "cell_type": "code",
   "execution_count": null,
   "id": "c639ef58",
   "metadata": {},
   "outputs": [],
   "source": [
    "# Print the imbalanced classification report\n",
    "#print(classification_report_imbalanced(y_test, y_pred))"
   ]
  }
 ],
 "metadata": {
  "kernelspec": {
   "display_name": "mlenv",
   "language": "python",
   "name": "mlenv"
  },
  "language_info": {
   "codemirror_mode": {
    "name": "ipython",
    "version": 3
   },
   "file_extension": ".py",
   "mimetype": "text/x-python",
   "name": "python",
   "nbconvert_exporter": "python",
   "pygments_lexer": "ipython3",
   "version": "3.7.9"
  }
 },
 "nbformat": 4,
 "nbformat_minor": 5
}