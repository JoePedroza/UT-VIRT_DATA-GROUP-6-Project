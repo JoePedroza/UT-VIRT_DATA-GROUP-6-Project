{
 "metadata": {
  "language_info": {
   "codemirror_mode": {
    "name": "ipython",
    "version": 3
   },
   "file_extension": ".py",
   "mimetype": "text/x-python",
   "name": "python",
   "nbconvert_exporter": "python",
   "pygments_lexer": "ipython3",
   "version": "3.8.5"
  },
  "orig_nbformat": 4,
  "kernelspec": {
   "name": "python3",
   "display_name": "Python 3.8.5 64-bit ('PythonData': conda)"
  },
  "interpreter": {
   "hash": "e81a24e94d4a01ad7b2815bda7eb2b59ca99226d5a1c173102c01bc81b6e5d20"
  }
 },
 "nbformat": 4,
 "nbformat_minor": 2,
 "cells": [
  {
   "cell_type": "code",
   "execution_count": 1,
   "metadata": {},
   "outputs": [],
   "source": [
    "# Import Dependencies\n",
    "import warnings\n",
    "warnings.filterwarnings('ignore')"
   ]
  },
  {
   "cell_type": "code",
   "execution_count": 2,
   "metadata": {},
   "outputs": [],
   "source": [
    "# Import Dependencies\n",
    "import numpy as np\n",
    "import pandas as pd\n",
    "from pathlib import Path\n",
    "from collections import Counter\n",
    "import matplotlib.pyplot as plt\n",
    "from sklearn.linear_model import LinearRegression"
   ]
  },
  {
   "cell_type": "code",
   "execution_count": 25,
   "metadata": {},
   "outputs": [
    {
     "output_type": "execute_result",
     "data": {
      "text/plain": [
       "    fips country state           county   level  lat  \\\n",
       "0  48001      US    TX  Anderson County  county  0.0   \n",
       "1  48003      US    TX   Andrews County  county  0.0   \n",
       "2  48005      US    TX  Angelina County  county  0.0   \n",
       "3  48007      US    TX   Aransas County  county  0.0   \n",
       "4  48009      US    TX    Archer County  county  0.0   \n",
       "\n",
       "                      locationId  long  population  \\\n",
       "0  iso1:us#iso2:us-tx#fips:48001   0.0       57735   \n",
       "1  iso1:us#iso2:us-tx#fips:48003   0.0       18705   \n",
       "2  iso1:us#iso2:us-tx#fips:48005   0.0       86715   \n",
       "3  iso1:us#iso2:us-tx#fips:48007   0.0       23510   \n",
       "4  iso1:us#iso2:us-tx#fips:48009   0.0        8553   \n",
       "\n",
       "   metrics.testPositivityRatio  ... actuals.newCases  \\\n",
       "0                        0.026  ...                1   \n",
       "1                        0.060  ...                0   \n",
       "2                        0.029  ...                0   \n",
       "3                        0.034  ...                0   \n",
       "4                        0.059  ...                0   \n",
       "\n",
       "   actuals.vaccinesDistributed  actuals.vaccinationsInitiated  \\\n",
       "0                          0.0                          18233   \n",
       "1                          0.0                           6261   \n",
       "2                          0.0                          28655   \n",
       "3                          0.0                          11812   \n",
       "4                          0.0                           3218   \n",
       "\n",
       "   actuals.vaccinationsCompleted  lastUpdatedDate  \\\n",
       "0                          14932          6/18/21   \n",
       "1                           5453          6/18/21   \n",
       "2                          24731          6/18/21   \n",
       "3                          10004          6/18/21   \n",
       "4                           2944          6/18/21   \n",
       "\n",
       "                                                 url  \\\n",
       "0  https://covidactnow.org/us/texas-tx/county/and...   \n",
       "1  https://covidactnow.org/us/texas-tx/county/and...   \n",
       "2  https://covidactnow.org/us/texas-tx/county/ang...   \n",
       "3  https://covidactnow.org/us/texas-tx/county/ara...   \n",
       "4  https://covidactnow.org/us/texas-tx/county/arc...   \n",
       "\n",
       "   metrics.vaccinationsInitiatedRatio  metrics.vaccinationsCompletedRatio  \\\n",
       "0                               0.316                               0.259   \n",
       "1                               0.335                               0.292   \n",
       "2                               0.330                               0.285   \n",
       "3                               0.502                               0.426   \n",
       "4                               0.376                               0.344   \n",
       "\n",
       "   actuals.newDeaths  actuals.vaccinesAdministered\\  \n",
       "0                  0                         31050\\  \n",
       "1                  0                         11492\\  \n",
       "2                  0                         51339\\  \n",
       "3                  0                         21048\\  \n",
       "4                  0                          5846\\  \n",
       "\n",
       "[5 rows x 48 columns]"
      ],
      "text/html": "<div>\n<style scoped>\n    .dataframe tbody tr th:only-of-type {\n        vertical-align: middle;\n    }\n\n    .dataframe tbody tr th {\n        vertical-align: top;\n    }\n\n    .dataframe thead th {\n        text-align: right;\n    }\n</style>\n<table border=\"1\" class=\"dataframe\">\n  <thead>\n    <tr style=\"text-align: right;\">\n      <th></th>\n      <th>fips</th>\n      <th>country</th>\n      <th>state</th>\n      <th>county</th>\n      <th>level</th>\n      <th>lat</th>\n      <th>locationId</th>\n      <th>long</th>\n      <th>population</th>\n      <th>metrics.testPositivityRatio</th>\n      <th>...</th>\n      <th>actuals.newCases</th>\n      <th>actuals.vaccinesDistributed</th>\n      <th>actuals.vaccinationsInitiated</th>\n      <th>actuals.vaccinationsCompleted</th>\n      <th>lastUpdatedDate</th>\n      <th>url</th>\n      <th>metrics.vaccinationsInitiatedRatio</th>\n      <th>metrics.vaccinationsCompletedRatio</th>\n      <th>actuals.newDeaths</th>\n      <th>actuals.vaccinesAdministered\\</th>\n    </tr>\n  </thead>\n  <tbody>\n    <tr>\n      <th>0</th>\n      <td>48001</td>\n      <td>US</td>\n      <td>TX</td>\n      <td>Anderson County</td>\n      <td>county</td>\n      <td>0.0</td>\n      <td>iso1:us#iso2:us-tx#fips:48001</td>\n      <td>0.0</td>\n      <td>57735</td>\n      <td>0.026</td>\n      <td>...</td>\n      <td>1</td>\n      <td>0.0</td>\n      <td>18233</td>\n      <td>14932</td>\n      <td>6/18/21</td>\n      <td>https://covidactnow.org/us/texas-tx/county/and...</td>\n      <td>0.316</td>\n      <td>0.259</td>\n      <td>0</td>\n      <td>31050\\</td>\n    </tr>\n    <tr>\n      <th>1</th>\n      <td>48003</td>\n      <td>US</td>\n      <td>TX</td>\n      <td>Andrews County</td>\n      <td>county</td>\n      <td>0.0</td>\n      <td>iso1:us#iso2:us-tx#fips:48003</td>\n      <td>0.0</td>\n      <td>18705</td>\n      <td>0.060</td>\n      <td>...</td>\n      <td>0</td>\n      <td>0.0</td>\n      <td>6261</td>\n      <td>5453</td>\n      <td>6/18/21</td>\n      <td>https://covidactnow.org/us/texas-tx/county/and...</td>\n      <td>0.335</td>\n      <td>0.292</td>\n      <td>0</td>\n      <td>11492\\</td>\n    </tr>\n    <tr>\n      <th>2</th>\n      <td>48005</td>\n      <td>US</td>\n      <td>TX</td>\n      <td>Angelina County</td>\n      <td>county</td>\n      <td>0.0</td>\n      <td>iso1:us#iso2:us-tx#fips:48005</td>\n      <td>0.0</td>\n      <td>86715</td>\n      <td>0.029</td>\n      <td>...</td>\n      <td>0</td>\n      <td>0.0</td>\n      <td>28655</td>\n      <td>24731</td>\n      <td>6/18/21</td>\n      <td>https://covidactnow.org/us/texas-tx/county/ang...</td>\n      <td>0.330</td>\n      <td>0.285</td>\n      <td>0</td>\n      <td>51339\\</td>\n    </tr>\n    <tr>\n      <th>3</th>\n      <td>48007</td>\n      <td>US</td>\n      <td>TX</td>\n      <td>Aransas County</td>\n      <td>county</td>\n      <td>0.0</td>\n      <td>iso1:us#iso2:us-tx#fips:48007</td>\n      <td>0.0</td>\n      <td>23510</td>\n      <td>0.034</td>\n      <td>...</td>\n      <td>0</td>\n      <td>0.0</td>\n      <td>11812</td>\n      <td>10004</td>\n      <td>6/18/21</td>\n      <td>https://covidactnow.org/us/texas-tx/county/ara...</td>\n      <td>0.502</td>\n      <td>0.426</td>\n      <td>0</td>\n      <td>21048\\</td>\n    </tr>\n    <tr>\n      <th>4</th>\n      <td>48009</td>\n      <td>US</td>\n      <td>TX</td>\n      <td>Archer County</td>\n      <td>county</td>\n      <td>0.0</td>\n      <td>iso1:us#iso2:us-tx#fips:48009</td>\n      <td>0.0</td>\n      <td>8553</td>\n      <td>0.059</td>\n      <td>...</td>\n      <td>0</td>\n      <td>0.0</td>\n      <td>3218</td>\n      <td>2944</td>\n      <td>6/18/21</td>\n      <td>https://covidactnow.org/us/texas-tx/county/arc...</td>\n      <td>0.376</td>\n      <td>0.344</td>\n      <td>0</td>\n      <td>5846\\</td>\n    </tr>\n  </tbody>\n</table>\n<p>5 rows × 48 columns</p>\n</div>"
     },
     "metadata": {},
     "execution_count": 25
    }
   ],
   "source": [
    "# Load the data\n",
    "file_path = Path('database_file/TexasCovid.csv')\n",
    "df = pd.read_csv(file_path)\n",
    "\n",
    "updated_df = df.replace(np.nan,0)\n",
    "#udpated_df = df['state'].replace('TX','TEXAS')\n",
    "updated_df.head(5)\n",
    "#lat_df = df['lat']\n",
    "#print(lat_df)\n",
    "#df = df.loc[:, columns].copy()"
   ]
  },
  {
   "cell_type": "code",
   "execution_count": 14,
   "metadata": {},
   "outputs": [
    {
     "output_type": "stream",
     "name": "stdout",
     "text": [
      "<class 'pandas.core.frame.DataFrame'>\nRangeIndex: 254 entries, 0 to 253\nData columns (total 48 columns):\n #   Column                                     Non-Null Count  Dtype  \n---  ------                                     --------------  -----  \n 0   fips                                       254 non-null    int64  \n 1   country                                    254 non-null    object \n 2   state                                      254 non-null    object \n 3   county                                     254 non-null    object \n 4   level                                      254 non-null    object \n 5   lat                                        0 non-null      float64\n 6   locationId                                 254 non-null    object \n 7   long                                       0 non-null      float64\n 8   population                                 254 non-null    int64  \n 9   metrics.testPositivityRatio                188 non-null    float64\n 10  metrics.testPositivityRatioDetails.source  254 non-null    object \n 11  metrics.caseDensity                        254 non-null    float64\n 12  metrics.contactTracerCapacityRatio         0 non-null      float64\n 13  metrics.infectionRate                      218 non-null    float64\n 14  metrics.infectionRateCI90                  218 non-null    float64\n 15  metrics.icuHeadroomRatio                   105 non-null    float64\n 16  metrics.icuHeadroomDetails                 0 non-null      float64\n 17  metrics.icuCapacityRatio                   79 non-null     float64\n 18  riskLevels.overall                         254 non-null    int64  \n 19  riskLevels.testPositivityRatio             254 non-null    int64  \n 20  riskLevels.caseDensity                     254 non-null    int64  \n 21  riskLevels.contactTracerCapacityRatio      254 non-null    int64  \n 22  riskLevels.infectionRate                   254 non-null    int64  \n 23  riskLevels.icuHeadroomRatio                254 non-null    int64  \n 24  riskLevels.icuCapacityRatio                254 non-null    int64  \n 25  actuals.cases                              254 non-null    int64  \n 26  actuals.deaths                             254 non-null    int64  \n 27  actuals.positiveTests                      0 non-null      float64\n 28  actuals.negativeTests                      0 non-null      float64\n 29  actuals.contactTracers                     0 non-null      float64\n 30  actuals.hospitalBeds.capacity              184 non-null    float64\n 31  actuals.hospitalBeds.currentUsageTotal     179 non-null    float64\n 32  actuals.hospitalBeds.currentUsageCovid     254 non-null    int64  \n 33  actuals.hospitalBeds.typicalUsageRate      177 non-null    float64\n 34  actuals.icuBeds.capacity                   185 non-null    float64\n 35  actuals.icuBeds.currentUsageTotal          120 non-null    float64\n 36  actuals.icuBeds.currentUsageCovid          254 non-null    int64  \n 37  actuals.icuBeds.typicalUsageRate           82 non-null     float64\n 38  actuals.newCases                           254 non-null    int64  \n 39  actuals.vaccinesDistributed                0 non-null      float64\n 40  actuals.vaccinationsInitiated              254 non-null    int64  \n 41  actuals.vaccinationsCompleted              254 non-null    int64  \n 42  lastUpdatedDate                            254 non-null    object \n 43  url                                        254 non-null    object \n 44  metrics.vaccinationsInitiatedRatio         254 non-null    float64\n 45  metrics.vaccinationsCompletedRatio         254 non-null    float64\n 46  actuals.newDeaths                          254 non-null    int64  \n 47  actuals.vaccinesAdministered\\              254 non-null    object \ndtypes: float64(22), int64(17), object(9)\nmemory usage: 95.4+ KB\n"
     ]
    }
   ],
   "source": [
    "df.info()\n"
   ]
  },
  {
   "cell_type": "code",
   "execution_count": null,
   "metadata": {},
   "outputs": [],
   "source": []
  }
 ]
}